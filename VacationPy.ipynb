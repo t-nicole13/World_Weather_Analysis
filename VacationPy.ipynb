{
 "cells": [
  {
   "cell_type": "markdown",
   "id": "d7b2bbd3",
   "metadata": {},
   "source": [
    "# Create Heatmaps for Weather Parameters"
   ]
  },
  {
   "cell_type": "code",
   "execution_count": 1,
   "id": "87df32b3",
   "metadata": {},
   "outputs": [],
   "source": [
    "# Import the dependencies\n",
    "import pandas as pd\n",
    "import gmaps\n",
    "import requests\n",
    "\n",
    "# Import the API key\n",
    "from config import g_key"
   ]
  },
  {
   "cell_type": "code",
   "execution_count": 2,
   "id": "ce71b47e",
   "metadata": {},
   "outputs": [
    {
     "data": {
      "text/html": [
       "<div>\n",
       "<style scoped>\n",
       "    .dataframe tbody tr th:only-of-type {\n",
       "        vertical-align: middle;\n",
       "    }\n",
       "\n",
       "    .dataframe tbody tr th {\n",
       "        vertical-align: top;\n",
       "    }\n",
       "\n",
       "    .dataframe thead th {\n",
       "        text-align: right;\n",
       "    }\n",
       "</style>\n",
       "<table border=\"1\" class=\"dataframe\">\n",
       "  <thead>\n",
       "    <tr style=\"text-align: right;\">\n",
       "      <th></th>\n",
       "      <th>City_ID</th>\n",
       "      <th>City</th>\n",
       "      <th>Country</th>\n",
       "      <th>Date</th>\n",
       "      <th>Lat</th>\n",
       "      <th>Lng</th>\n",
       "      <th>Max Temp</th>\n",
       "      <th>Humidity</th>\n",
       "      <th>Cloudiness</th>\n",
       "      <th>Wind Speed</th>\n",
       "    </tr>\n",
       "  </thead>\n",
       "  <tbody>\n",
       "    <tr>\n",
       "      <th>0</th>\n",
       "      <td>0</td>\n",
       "      <td>Siverek</td>\n",
       "      <td>TR</td>\n",
       "      <td>2022-01-28 01:40:25</td>\n",
       "      <td>37.7550</td>\n",
       "      <td>39.3167</td>\n",
       "      <td>29.01</td>\n",
       "      <td>76</td>\n",
       "      <td>0</td>\n",
       "      <td>6.06</td>\n",
       "    </tr>\n",
       "    <tr>\n",
       "      <th>1</th>\n",
       "      <td>1</td>\n",
       "      <td>Aklavik</td>\n",
       "      <td>CA</td>\n",
       "      <td>2022-01-28 01:40:26</td>\n",
       "      <td>68.2191</td>\n",
       "      <td>-135.0107</td>\n",
       "      <td>-17.57</td>\n",
       "      <td>93</td>\n",
       "      <td>100</td>\n",
       "      <td>2.53</td>\n",
       "    </tr>\n",
       "    <tr>\n",
       "      <th>2</th>\n",
       "      <td>2</td>\n",
       "      <td>Oswego</td>\n",
       "      <td>US</td>\n",
       "      <td>2022-01-28 01:40:26</td>\n",
       "      <td>43.4501</td>\n",
       "      <td>-76.1497</td>\n",
       "      <td>28.90</td>\n",
       "      <td>57</td>\n",
       "      <td>100</td>\n",
       "      <td>1.99</td>\n",
       "    </tr>\n",
       "    <tr>\n",
       "      <th>3</th>\n",
       "      <td>3</td>\n",
       "      <td>Vaini</td>\n",
       "      <td>TO</td>\n",
       "      <td>2022-01-28 01:40:26</td>\n",
       "      <td>-21.2000</td>\n",
       "      <td>-175.2000</td>\n",
       "      <td>82.96</td>\n",
       "      <td>77</td>\n",
       "      <td>21</td>\n",
       "      <td>14.14</td>\n",
       "    </tr>\n",
       "    <tr>\n",
       "      <th>4</th>\n",
       "      <td>4</td>\n",
       "      <td>Busselton</td>\n",
       "      <td>AU</td>\n",
       "      <td>2022-01-28 01:40:27</td>\n",
       "      <td>-33.6500</td>\n",
       "      <td>115.3333</td>\n",
       "      <td>73.04</td>\n",
       "      <td>35</td>\n",
       "      <td>0</td>\n",
       "      <td>8.66</td>\n",
       "    </tr>\n",
       "  </tbody>\n",
       "</table>\n",
       "</div>"
      ],
      "text/plain": [
       "   City_ID       City Country                 Date      Lat       Lng  \\\n",
       "0        0    Siverek      TR  2022-01-28 01:40:25  37.7550   39.3167   \n",
       "1        1    Aklavik      CA  2022-01-28 01:40:26  68.2191 -135.0107   \n",
       "2        2     Oswego      US  2022-01-28 01:40:26  43.4501  -76.1497   \n",
       "3        3      Vaini      TO  2022-01-28 01:40:26 -21.2000 -175.2000   \n",
       "4        4  Busselton      AU  2022-01-28 01:40:27 -33.6500  115.3333   \n",
       "\n",
       "   Max Temp  Humidity  Cloudiness  Wind Speed  \n",
       "0     29.01        76           0        6.06  \n",
       "1    -17.57        93         100        2.53  \n",
       "2     28.90        57         100        1.99  \n",
       "3     82.96        77          21       14.14  \n",
       "4     73.04        35           0        8.66  "
      ]
     },
     "execution_count": 2,
     "metadata": {},
     "output_type": "execute_result"
    }
   ],
   "source": [
    "# Store the CSV you saved created in part one into a DataFrame\n",
    "city_data_df = pd.read_csv('weather_data/cities.csv')\n",
    "city_data_df.head()"
   ]
  },
  {
   "cell_type": "code",
   "execution_count": 3,
   "id": "2c01e916",
   "metadata": {},
   "outputs": [
    {
     "data": {
      "text/plain": [
       "City_ID         int64\n",
       "City           object\n",
       "Country        object\n",
       "Date           object\n",
       "Lat           float64\n",
       "Lng           float64\n",
       "Max Temp      float64\n",
       "Humidity        int64\n",
       "Cloudiness      int64\n",
       "Wind Speed    float64\n",
       "dtype: object"
      ]
     },
     "execution_count": 3,
     "metadata": {},
     "output_type": "execute_result"
    }
   ],
   "source": [
    "# Get the data types\n",
    "city_data_df.dtypes"
   ]
  },
  {
   "cell_type": "markdown",
   "id": "65bb1bc0",
   "metadata": {},
   "source": [
    "# Create a Max Temp Heatmap"
   ]
  },
  {
   "cell_type": "code",
   "execution_count": 4,
   "id": "893a55f5",
   "metadata": {},
   "outputs": [],
   "source": [
    "# Configure gmaps to use your Google API key\n",
    "gmaps.configure(api_key = g_key)"
   ]
  },
  {
   "cell_type": "code",
   "execution_count": 7,
   "id": "e3efa43e",
   "metadata": {},
   "outputs": [
    {
     "data": {
      "application/vnd.jupyter.widget-view+json": {
       "model_id": "294e74469c0643429271e5fc15406026",
       "version_major": 2,
       "version_minor": 0
      },
      "text/plain": [
       "Figure(layout=FigureLayout(height='420px'))"
      ]
     },
     "metadata": {},
     "output_type": "display_data"
    }
   ],
   "source": [
    "# Heamap of temperature.\n",
    "# 1. Assign the locations to an array of latitude and longitude pairs.\n",
    "locations = city_data_df[['Lat', 'Lng']]\n",
    "\n",
    "# 2. Get the max temp.\n",
    "max_temp = city_data_df['Max Temp']\n",
    "# temps = []\n",
    "# for temp in max_temp:\n",
    "#    temps.append(max(temp, 0))\n",
    "\n",
    "# 3. Assign the figure variable to the gmaps.figure() attribute.\n",
    "fig = gmaps.figure(center = (30.0, 31.0), zoom_level = 1.5)\n",
    "\n",
    "# 4. Assign the heatmap_layer variable to the heatmap_layer attribute and add in the locations.\n",
    "# Adjust Heatmap Zoom, Intensity, and Point Radius\n",
    "heat_layer = gmaps.heatmap_layer(locations, weights = [max(temp, 0) for temp in max_temp], dissipating=False, max_intensity=300, point_radius=4)\n",
    "\n",
    "# 5. Add the heatmap layer.\n",
    "fig.add_layer(heat_layer)\n",
    "\n",
    "# 6. Call the figure to plot the data.\n",
    "fig"
   ]
  },
  {
   "cell_type": "markdown",
   "id": "1f8285b0",
   "metadata": {},
   "source": [
    "# Create a Percent Humidity Heatmap"
   ]
  },
  {
   "cell_type": "code",
   "execution_count": 8,
   "id": "93717404",
   "metadata": {},
   "outputs": [
    {
     "data": {
      "application/vnd.jupyter.widget-view+json": {
       "model_id": "2a523588e1354ed8a5aa801f29e4df8e",
       "version_major": 2,
       "version_minor": 0
      },
      "text/plain": [
       "Figure(layout=FigureLayout(height='420px'))"
      ]
     },
     "metadata": {},
     "output_type": "display_data"
    }
   ],
   "source": [
    "# Heatmap of percent humidity.\n",
    "locations = city_data_df[['Lat', 'Lng']]\n",
    "humidity = city_data_df['Humidity']\n",
    "\n",
    "fig = gmaps.figure(center = (30.0, 31.0), zoom_level = 1.5)\n",
    "heat_layer = gmaps.heatmap_layer(locations, weights = humidity, dissipating=False, max_intensity=300, point_radius=4)\n",
    "\n",
    "fig.add_layer(heat_layer)\n",
    "\n",
    "# Call the figure to plot the data.\n",
    "fig\n"
   ]
  },
  {
   "cell_type": "markdown",
   "id": "985b85f6",
   "metadata": {},
   "source": [
    "# Create a Percent Cloudiness Heatmap"
   ]
  },
  {
   "cell_type": "code",
   "execution_count": 9,
   "id": "573c284f",
   "metadata": {},
   "outputs": [
    {
     "data": {
      "application/vnd.jupyter.widget-view+json": {
       "model_id": "956bd5f622ad4c57b658c3b80370e2b8",
       "version_major": 2,
       "version_minor": 0
      },
      "text/plain": [
       "Figure(layout=FigureLayout(height='420px'))"
      ]
     },
     "metadata": {},
     "output_type": "display_data"
    }
   ],
   "source": [
    "# Heatmap of percent cloudiness.\n",
    "locations = city_data_df[['Lat', 'Lng']]\n",
    "clouds = city_data_df['Cloudiness']\n",
    "\n",
    "fig = gmaps.figure(center=(30.0, 31.0), zoom_level=1.5)\n",
    "heat_layer = gmaps.heatmap_layer(locations, weights = clouds,dissipating=False, max_intensity=300, point_radius=4)\n",
    "\n",
    "fig.add_layer(heat_layer)\n",
    "\n",
    "# Call the figure to plot the data\n",
    "fig\n"
   ]
  },
  {
   "cell_type": "markdown",
   "id": "efaac691",
   "metadata": {},
   "source": [
    "# Create a Percent Wind Speed Heatmap"
   ]
  },
  {
   "cell_type": "code",
   "execution_count": 10,
   "id": "c0a5f3c6",
   "metadata": {},
   "outputs": [
    {
     "data": {
      "application/vnd.jupyter.widget-view+json": {
       "model_id": "cf3ad2967dae40208fc2d158fa0ef861",
       "version_major": 2,
       "version_minor": 0
      },
      "text/plain": [
       "Figure(layout=FigureLayout(height='420px'))"
      ]
     },
     "metadata": {},
     "output_type": "display_data"
    }
   ],
   "source": [
    "# Heatmap of wind speed.\n",
    "locations = city_data_df[['Lat', 'Lng']]\n",
    "wind = city_data_df['Wind Speed']\n",
    "\n",
    "fig = gmaps.figure(center=(30.0, 31.0), zoom_level=1.5)\n",
    "heat_layer = gmaps.heatmap_layer(locations, weights = wind, dissipating=False, max_intensity=300, point_radius=4)\n",
    "\n",
    "fig.add_layer(heat_layer)\n",
    "\n",
    "# Call the figure to plot the data\n",
    "fig\n"
   ]
  },
  {
   "cell_type": "markdown",
   "id": "4b5f8171",
   "metadata": {},
   "source": [
    "# Get Vacation Criteria"
   ]
  },
  {
   "cell_type": "code",
   "execution_count": 11,
   "id": "98f05dc6",
   "metadata": {},
   "outputs": [
    {
     "name": "stdout",
     "output_type": "stream",
     "text": [
      "What is the minimum temperature you would like for your trip? 75\n",
      "What is the maximum temperature you would like for your trip? 90\n"
     ]
    }
   ],
   "source": [
    "# Ask the customer to add a minimum and maximum temperature value.\n",
    "min_temp = float(input(\"What is the minimum temperature you would like for your trip? \"))\n",
    "max_temp = float(input(\"What is the maximum temperature you would like for your trip? \"))"
   ]
  },
  {
   "cell_type": "code",
   "execution_count": 13,
   "id": "a24ae42b",
   "metadata": {},
   "outputs": [
    {
     "data": {
      "text/html": [
       "<div>\n",
       "<style scoped>\n",
       "    .dataframe tbody tr th:only-of-type {\n",
       "        vertical-align: middle;\n",
       "    }\n",
       "\n",
       "    .dataframe tbody tr th {\n",
       "        vertical-align: top;\n",
       "    }\n",
       "\n",
       "    .dataframe thead th {\n",
       "        text-align: right;\n",
       "    }\n",
       "</style>\n",
       "<table border=\"1\" class=\"dataframe\">\n",
       "  <thead>\n",
       "    <tr style=\"text-align: right;\">\n",
       "      <th></th>\n",
       "      <th>City_ID</th>\n",
       "      <th>City</th>\n",
       "      <th>Country</th>\n",
       "      <th>Date</th>\n",
       "      <th>Lat</th>\n",
       "      <th>Lng</th>\n",
       "      <th>Max Temp</th>\n",
       "      <th>Humidity</th>\n",
       "      <th>Cloudiness</th>\n",
       "      <th>Wind Speed</th>\n",
       "    </tr>\n",
       "  </thead>\n",
       "  <tbody>\n",
       "    <tr>\n",
       "      <th>3</th>\n",
       "      <td>3</td>\n",
       "      <td>Vaini</td>\n",
       "      <td>TO</td>\n",
       "      <td>2022-01-28 01:40:26</td>\n",
       "      <td>-21.2000</td>\n",
       "      <td>-175.2000</td>\n",
       "      <td>82.96</td>\n",
       "      <td>77</td>\n",
       "      <td>21</td>\n",
       "      <td>14.14</td>\n",
       "    </tr>\n",
       "    <tr>\n",
       "      <th>5</th>\n",
       "      <td>5</td>\n",
       "      <td>Hilo</td>\n",
       "      <td>US</td>\n",
       "      <td>2022-01-28 01:40:27</td>\n",
       "      <td>19.7297</td>\n",
       "      <td>-155.0900</td>\n",
       "      <td>80.33</td>\n",
       "      <td>69</td>\n",
       "      <td>100</td>\n",
       "      <td>13.80</td>\n",
       "    </tr>\n",
       "    <tr>\n",
       "      <th>18</th>\n",
       "      <td>18</td>\n",
       "      <td>Port Augusta</td>\n",
       "      <td>AU</td>\n",
       "      <td>2022-01-28 01:40:31</td>\n",
       "      <td>-32.5000</td>\n",
       "      <td>137.7667</td>\n",
       "      <td>75.34</td>\n",
       "      <td>54</td>\n",
       "      <td>56</td>\n",
       "      <td>19.57</td>\n",
       "    </tr>\n",
       "    <tr>\n",
       "      <th>25</th>\n",
       "      <td>25</td>\n",
       "      <td>Rikitea</td>\n",
       "      <td>PF</td>\n",
       "      <td>2022-01-28 01:40:33</td>\n",
       "      <td>-23.1203</td>\n",
       "      <td>-134.9692</td>\n",
       "      <td>78.67</td>\n",
       "      <td>77</td>\n",
       "      <td>75</td>\n",
       "      <td>16.26</td>\n",
       "    </tr>\n",
       "    <tr>\n",
       "      <th>31</th>\n",
       "      <td>31</td>\n",
       "      <td>Kavaratti</td>\n",
       "      <td>IN</td>\n",
       "      <td>2022-01-28 01:40:35</td>\n",
       "      <td>10.5669</td>\n",
       "      <td>72.6420</td>\n",
       "      <td>79.14</td>\n",
       "      <td>72</td>\n",
       "      <td>49</td>\n",
       "      <td>10.07</td>\n",
       "    </tr>\n",
       "    <tr>\n",
       "      <th>34</th>\n",
       "      <td>34</td>\n",
       "      <td>Avarua</td>\n",
       "      <td>CK</td>\n",
       "      <td>2022-01-28 01:40:36</td>\n",
       "      <td>-21.2078</td>\n",
       "      <td>-159.7750</td>\n",
       "      <td>82.45</td>\n",
       "      <td>83</td>\n",
       "      <td>20</td>\n",
       "      <td>16.11</td>\n",
       "    </tr>\n",
       "    <tr>\n",
       "      <th>37</th>\n",
       "      <td>37</td>\n",
       "      <td>Pangkalanbuun</td>\n",
       "      <td>ID</td>\n",
       "      <td>2022-01-28 01:40:37</td>\n",
       "      <td>-2.6833</td>\n",
       "      <td>111.6167</td>\n",
       "      <td>84.60</td>\n",
       "      <td>69</td>\n",
       "      <td>100</td>\n",
       "      <td>4.03</td>\n",
       "    </tr>\n",
       "    <tr>\n",
       "      <th>39</th>\n",
       "      <td>39</td>\n",
       "      <td>Emerald</td>\n",
       "      <td>AU</td>\n",
       "      <td>2022-01-28 01:38:06</td>\n",
       "      <td>-23.5333</td>\n",
       "      <td>148.1667</td>\n",
       "      <td>86.34</td>\n",
       "      <td>48</td>\n",
       "      <td>40</td>\n",
       "      <td>13.80</td>\n",
       "    </tr>\n",
       "    <tr>\n",
       "      <th>42</th>\n",
       "      <td>42</td>\n",
       "      <td>Carnarvon</td>\n",
       "      <td>AU</td>\n",
       "      <td>2022-01-28 01:36:01</td>\n",
       "      <td>-24.8667</td>\n",
       "      <td>113.6333</td>\n",
       "      <td>82.47</td>\n",
       "      <td>65</td>\n",
       "      <td>0</td>\n",
       "      <td>4.61</td>\n",
       "    </tr>\n",
       "    <tr>\n",
       "      <th>44</th>\n",
       "      <td>44</td>\n",
       "      <td>Luanda</td>\n",
       "      <td>AO</td>\n",
       "      <td>2022-01-28 01:40:38</td>\n",
       "      <td>-8.8368</td>\n",
       "      <td>13.2343</td>\n",
       "      <td>77.14</td>\n",
       "      <td>84</td>\n",
       "      <td>100</td>\n",
       "      <td>2.95</td>\n",
       "    </tr>\n",
       "  </tbody>\n",
       "</table>\n",
       "</div>"
      ],
      "text/plain": [
       "    City_ID           City Country                 Date      Lat       Lng  \\\n",
       "3         3          Vaini      TO  2022-01-28 01:40:26 -21.2000 -175.2000   \n",
       "5         5           Hilo      US  2022-01-28 01:40:27  19.7297 -155.0900   \n",
       "18       18   Port Augusta      AU  2022-01-28 01:40:31 -32.5000  137.7667   \n",
       "25       25        Rikitea      PF  2022-01-28 01:40:33 -23.1203 -134.9692   \n",
       "31       31      Kavaratti      IN  2022-01-28 01:40:35  10.5669   72.6420   \n",
       "34       34         Avarua      CK  2022-01-28 01:40:36 -21.2078 -159.7750   \n",
       "37       37  Pangkalanbuun      ID  2022-01-28 01:40:37  -2.6833  111.6167   \n",
       "39       39        Emerald      AU  2022-01-28 01:38:06 -23.5333  148.1667   \n",
       "42       42      Carnarvon      AU  2022-01-28 01:36:01 -24.8667  113.6333   \n",
       "44       44         Luanda      AO  2022-01-28 01:40:38  -8.8368   13.2343   \n",
       "\n",
       "    Max Temp  Humidity  Cloudiness  Wind Speed  \n",
       "3      82.96        77          21       14.14  \n",
       "5      80.33        69         100       13.80  \n",
       "18     75.34        54          56       19.57  \n",
       "25     78.67        77          75       16.26  \n",
       "31     79.14        72          49       10.07  \n",
       "34     82.45        83          20       16.11  \n",
       "37     84.60        69         100        4.03  \n",
       "39     86.34        48          40       13.80  \n",
       "42     82.47        65           0        4.61  \n",
       "44     77.14        84         100        2.95  "
      ]
     },
     "execution_count": 13,
     "metadata": {},
     "output_type": "execute_result"
    }
   ],
   "source": [
    "# Filter the dataset to find the cities that fit the criteria.\n",
    "preferred_cities_df = city_data_df.loc[(city_data_df[\"Max Temp\"] <= max_temp) & \\\n",
    "                                       (city_data_df[\"Max Temp\"] >= min_temp)]\n",
    "preferred_cities_df.head(10)"
   ]
  },
  {
   "cell_type": "code",
   "execution_count": 14,
   "id": "e087e939",
   "metadata": {},
   "outputs": [
    {
     "data": {
      "text/plain": [
       "City_ID       128\n",
       "City          128\n",
       "Country       128\n",
       "Date          128\n",
       "Lat           128\n",
       "Lng           128\n",
       "Max Temp      128\n",
       "Humidity      128\n",
       "Cloudiness    128\n",
       "Wind Speed    128\n",
       "dtype: int64"
      ]
     },
     "execution_count": 14,
     "metadata": {},
     "output_type": "execute_result"
    }
   ],
   "source": [
    "preferred_cities_df.count()"
   ]
  },
  {
   "cell_type": "markdown",
   "id": "7141a76f",
   "metadata": {},
   "source": [
    "# Map Vacation Criteria"
   ]
  },
  {
   "cell_type": "markdown",
   "id": "efc61a36",
   "metadata": {},
   "source": [
    "**Get Travel Destinations**"
   ]
  },
  {
   "cell_type": "code",
   "execution_count": 15,
   "id": "2c6ddcd6",
   "metadata": {},
   "outputs": [
    {
     "data": {
      "text/html": [
       "<div>\n",
       "<style scoped>\n",
       "    .dataframe tbody tr th:only-of-type {\n",
       "        vertical-align: middle;\n",
       "    }\n",
       "\n",
       "    .dataframe tbody tr th {\n",
       "        vertical-align: top;\n",
       "    }\n",
       "\n",
       "    .dataframe thead th {\n",
       "        text-align: right;\n",
       "    }\n",
       "</style>\n",
       "<table border=\"1\" class=\"dataframe\">\n",
       "  <thead>\n",
       "    <tr style=\"text-align: right;\">\n",
       "      <th></th>\n",
       "      <th>City</th>\n",
       "      <th>Country</th>\n",
       "      <th>Max Temp</th>\n",
       "      <th>Lat</th>\n",
       "      <th>Lng</th>\n",
       "      <th>Hotel Name</th>\n",
       "    </tr>\n",
       "  </thead>\n",
       "  <tbody>\n",
       "    <tr>\n",
       "      <th>3</th>\n",
       "      <td>Vaini</td>\n",
       "      <td>TO</td>\n",
       "      <td>82.96</td>\n",
       "      <td>-21.2000</td>\n",
       "      <td>-175.2000</td>\n",
       "      <td></td>\n",
       "    </tr>\n",
       "    <tr>\n",
       "      <th>5</th>\n",
       "      <td>Hilo</td>\n",
       "      <td>US</td>\n",
       "      <td>80.33</td>\n",
       "      <td>19.7297</td>\n",
       "      <td>-155.0900</td>\n",
       "      <td></td>\n",
       "    </tr>\n",
       "    <tr>\n",
       "      <th>18</th>\n",
       "      <td>Port Augusta</td>\n",
       "      <td>AU</td>\n",
       "      <td>75.34</td>\n",
       "      <td>-32.5000</td>\n",
       "      <td>137.7667</td>\n",
       "      <td></td>\n",
       "    </tr>\n",
       "    <tr>\n",
       "      <th>25</th>\n",
       "      <td>Rikitea</td>\n",
       "      <td>PF</td>\n",
       "      <td>78.67</td>\n",
       "      <td>-23.1203</td>\n",
       "      <td>-134.9692</td>\n",
       "      <td></td>\n",
       "    </tr>\n",
       "    <tr>\n",
       "      <th>31</th>\n",
       "      <td>Kavaratti</td>\n",
       "      <td>IN</td>\n",
       "      <td>79.14</td>\n",
       "      <td>10.5669</td>\n",
       "      <td>72.6420</td>\n",
       "      <td></td>\n",
       "    </tr>\n",
       "    <tr>\n",
       "      <th>34</th>\n",
       "      <td>Avarua</td>\n",
       "      <td>CK</td>\n",
       "      <td>82.45</td>\n",
       "      <td>-21.2078</td>\n",
       "      <td>-159.7750</td>\n",
       "      <td></td>\n",
       "    </tr>\n",
       "    <tr>\n",
       "      <th>37</th>\n",
       "      <td>Pangkalanbuun</td>\n",
       "      <td>ID</td>\n",
       "      <td>84.60</td>\n",
       "      <td>-2.6833</td>\n",
       "      <td>111.6167</td>\n",
       "      <td></td>\n",
       "    </tr>\n",
       "    <tr>\n",
       "      <th>39</th>\n",
       "      <td>Emerald</td>\n",
       "      <td>AU</td>\n",
       "      <td>86.34</td>\n",
       "      <td>-23.5333</td>\n",
       "      <td>148.1667</td>\n",
       "      <td></td>\n",
       "    </tr>\n",
       "    <tr>\n",
       "      <th>42</th>\n",
       "      <td>Carnarvon</td>\n",
       "      <td>AU</td>\n",
       "      <td>82.47</td>\n",
       "      <td>-24.8667</td>\n",
       "      <td>113.6333</td>\n",
       "      <td></td>\n",
       "    </tr>\n",
       "    <tr>\n",
       "      <th>44</th>\n",
       "      <td>Luanda</td>\n",
       "      <td>AO</td>\n",
       "      <td>77.14</td>\n",
       "      <td>-8.8368</td>\n",
       "      <td>13.2343</td>\n",
       "      <td></td>\n",
       "    </tr>\n",
       "  </tbody>\n",
       "</table>\n",
       "</div>"
      ],
      "text/plain": [
       "             City Country  Max Temp      Lat       Lng Hotel Name\n",
       "3           Vaini      TO     82.96 -21.2000 -175.2000           \n",
       "5            Hilo      US     80.33  19.7297 -155.0900           \n",
       "18   Port Augusta      AU     75.34 -32.5000  137.7667           \n",
       "25        Rikitea      PF     78.67 -23.1203 -134.9692           \n",
       "31      Kavaratti      IN     79.14  10.5669   72.6420           \n",
       "34         Avarua      CK     82.45 -21.2078 -159.7750           \n",
       "37  Pangkalanbuun      ID     84.60  -2.6833  111.6167           \n",
       "39        Emerald      AU     86.34 -23.5333  148.1667           \n",
       "42      Carnarvon      AU     82.47 -24.8667  113.6333           \n",
       "44         Luanda      AO     77.14  -8.8368   13.2343           "
      ]
     },
     "execution_count": 15,
     "metadata": {},
     "output_type": "execute_result"
    }
   ],
   "source": [
    "# Create DataFrame called hotel_df to store hotel names along with city, country, max temp, and coordinates.\n",
    "hotel_df = preferred_cities_df[['City', 'Country', 'Max Temp', 'Lat', 'Lng']].copy()\n",
    "hotel_df['Hotel Name'] = ''\n",
    "hotel_df.head(10)"
   ]
  },
  {
   "cell_type": "markdown",
   "id": "95ee1675",
   "metadata": {},
   "source": [
    "**Retrieve Hotels from a Nearby Search**"
   ]
  },
  {
   "cell_type": "code",
   "execution_count": 17,
   "id": "976b47a2",
   "metadata": {},
   "outputs": [],
   "source": [
    "# Set parameters to search for a hotel.\n",
    "params = {\n",
    "    'radius': 5000,\n",
    "    'type': 'lodging',\n",
    "    'key': g_key\n",
    "}"
   ]
  },
  {
   "cell_type": "code",
   "execution_count": 19,
   "id": "2c5a2b2b",
   "metadata": {},
   "outputs": [
    {
     "name": "stdout",
     "output_type": "stream",
     "text": [
      "Hotel not found...skipping.\n",
      "Hotel not found...skipping.\n",
      "Hotel not found...skipping.\n",
      "Hotel not found...skipping.\n",
      "Hotel not found...skipping.\n",
      "Hotel not found...skipping.\n"
     ]
    }
   ],
   "source": [
    "# Iterate through the DataFrame.\n",
    "for index, row in hotel_df.iterrows():\n",
    "    # Get the latitude and longitude.\n",
    "    lat = row['Lat']\n",
    "    lng = row['Lng']\n",
    "\n",
    "    # Add the latitude and longitude to location key for the params dictionary.\n",
    "    params['location'] = f'{lat},{lng}'\n",
    "\n",
    "    # Use the search term: \"lodging\" and our latitude and longitude.\n",
    "    base_url = 'https://maps.googleapis.com/maps/api/place/nearbysearch/json'\n",
    "    \n",
    "    # Make request and get the JSON data from the search.\n",
    "    hotels = requests.get(base_url, params=params).json()\n",
    "    \n",
    "    # Grab the first hotel from the results and store the name.\n",
    "    try:\n",
    "        hotel_df.loc[index, 'Hotel Name'] = hotels['results'][0]['name']\n",
    "    except (IndexError):\n",
    "        print('Hotel not found...skipping.')"
   ]
  },
  {
   "cell_type": "code",
   "execution_count": 20,
   "id": "aa8be7c0",
   "metadata": {},
   "outputs": [
    {
     "data": {
      "text/html": [
       "<div>\n",
       "<style scoped>\n",
       "    .dataframe tbody tr th:only-of-type {\n",
       "        vertical-align: middle;\n",
       "    }\n",
       "\n",
       "    .dataframe tbody tr th {\n",
       "        vertical-align: top;\n",
       "    }\n",
       "\n",
       "    .dataframe thead th {\n",
       "        text-align: right;\n",
       "    }\n",
       "</style>\n",
       "<table border=\"1\" class=\"dataframe\">\n",
       "  <thead>\n",
       "    <tr style=\"text-align: right;\">\n",
       "      <th></th>\n",
       "      <th>City</th>\n",
       "      <th>Country</th>\n",
       "      <th>Max Temp</th>\n",
       "      <th>Lat</th>\n",
       "      <th>Lng</th>\n",
       "      <th>Hotel Name</th>\n",
       "    </tr>\n",
       "  </thead>\n",
       "  <tbody>\n",
       "    <tr>\n",
       "      <th>3</th>\n",
       "      <td>Vaini</td>\n",
       "      <td>TO</td>\n",
       "      <td>82.96</td>\n",
       "      <td>-21.2000</td>\n",
       "      <td>-175.2000</td>\n",
       "      <td>Keleti Beach Resort</td>\n",
       "    </tr>\n",
       "    <tr>\n",
       "      <th>5</th>\n",
       "      <td>Hilo</td>\n",
       "      <td>US</td>\n",
       "      <td>80.33</td>\n",
       "      <td>19.7297</td>\n",
       "      <td>-155.0900</td>\n",
       "      <td>Hilo Hawaiian Hotel</td>\n",
       "    </tr>\n",
       "    <tr>\n",
       "      <th>18</th>\n",
       "      <td>Port Augusta</td>\n",
       "      <td>AU</td>\n",
       "      <td>75.34</td>\n",
       "      <td>-32.5000</td>\n",
       "      <td>137.7667</td>\n",
       "      <td>Majestic Oasis Apartments</td>\n",
       "    </tr>\n",
       "    <tr>\n",
       "      <th>25</th>\n",
       "      <td>Rikitea</td>\n",
       "      <td>PF</td>\n",
       "      <td>78.67</td>\n",
       "      <td>-23.1203</td>\n",
       "      <td>-134.9692</td>\n",
       "      <td>People ThankYou</td>\n",
       "    </tr>\n",
       "    <tr>\n",
       "      <th>31</th>\n",
       "      <td>Kavaratti</td>\n",
       "      <td>IN</td>\n",
       "      <td>79.14</td>\n",
       "      <td>10.5669</td>\n",
       "      <td>72.6420</td>\n",
       "      <td>Hotels in Lakshadweep Islands</td>\n",
       "    </tr>\n",
       "    <tr>\n",
       "      <th>34</th>\n",
       "      <td>Avarua</td>\n",
       "      <td>CK</td>\n",
       "      <td>82.45</td>\n",
       "      <td>-21.2078</td>\n",
       "      <td>-159.7750</td>\n",
       "      <td>Paradise Inn</td>\n",
       "    </tr>\n",
       "    <tr>\n",
       "      <th>37</th>\n",
       "      <td>Pangkalanbuun</td>\n",
       "      <td>ID</td>\n",
       "      <td>84.60</td>\n",
       "      <td>-2.6833</td>\n",
       "      <td>111.6167</td>\n",
       "      <td>Grand Kecubung Hotel</td>\n",
       "    </tr>\n",
       "    <tr>\n",
       "      <th>39</th>\n",
       "      <td>Emerald</td>\n",
       "      <td>AU</td>\n",
       "      <td>86.34</td>\n",
       "      <td>-23.5333</td>\n",
       "      <td>148.1667</td>\n",
       "      <td>The Irish Village</td>\n",
       "    </tr>\n",
       "    <tr>\n",
       "      <th>42</th>\n",
       "      <td>Carnarvon</td>\n",
       "      <td>AU</td>\n",
       "      <td>82.47</td>\n",
       "      <td>-24.8667</td>\n",
       "      <td>113.6333</td>\n",
       "      <td>Hospitality Carnarvon</td>\n",
       "    </tr>\n",
       "    <tr>\n",
       "      <th>44</th>\n",
       "      <td>Luanda</td>\n",
       "      <td>AO</td>\n",
       "      <td>77.14</td>\n",
       "      <td>-8.8368</td>\n",
       "      <td>13.2343</td>\n",
       "      <td>Hotel Fórum</td>\n",
       "    </tr>\n",
       "  </tbody>\n",
       "</table>\n",
       "</div>"
      ],
      "text/plain": [
       "             City Country  Max Temp      Lat       Lng  \\\n",
       "3           Vaini      TO     82.96 -21.2000 -175.2000   \n",
       "5            Hilo      US     80.33  19.7297 -155.0900   \n",
       "18   Port Augusta      AU     75.34 -32.5000  137.7667   \n",
       "25        Rikitea      PF     78.67 -23.1203 -134.9692   \n",
       "31      Kavaratti      IN     79.14  10.5669   72.6420   \n",
       "34         Avarua      CK     82.45 -21.2078 -159.7750   \n",
       "37  Pangkalanbuun      ID     84.60  -2.6833  111.6167   \n",
       "39        Emerald      AU     86.34 -23.5333  148.1667   \n",
       "42      Carnarvon      AU     82.47 -24.8667  113.6333   \n",
       "44         Luanda      AO     77.14  -8.8368   13.2343   \n",
       "\n",
       "                       Hotel Name  \n",
       "3             Keleti Beach Resort  \n",
       "5             Hilo Hawaiian Hotel  \n",
       "18      Majestic Oasis Apartments  \n",
       "25                People ThankYou  \n",
       "31  Hotels in Lakshadweep Islands  \n",
       "34                   Paradise Inn  \n",
       "37           Grand Kecubung Hotel  \n",
       "39              The Irish Village  \n",
       "42          Hospitality Carnarvon  \n",
       "44                    Hotel Fórum  "
      ]
     },
     "execution_count": 20,
     "metadata": {},
     "output_type": "execute_result"
    }
   ],
   "source": [
    "hotel_df.head(10)"
   ]
  },
  {
   "cell_type": "markdown",
   "id": "983a65c2",
   "metadata": {},
   "source": [
    "**Create a Maximum Temperature Heatmap from a Hotel DataFrame**"
   ]
  },
  {
   "cell_type": "code",
   "execution_count": 24,
   "id": "b9c80d82",
   "metadata": {},
   "outputs": [
    {
     "data": {
      "application/vnd.jupyter.widget-view+json": {
       "model_id": "e7bb31f623be46ae9984f3fb4fd656fa",
       "version_major": 2,
       "version_minor": 0
      },
      "text/plain": [
       "Figure(layout=FigureLayout(height='420px'))"
      ]
     },
     "metadata": {},
     "output_type": "display_data"
    }
   ],
   "source": [
    "# Add a heatmap of temperature for the vacation spots.\n",
    "locations = hotel_df[['Lat', 'Lng']]\n",
    "max_temp = hotel_df['Max Temp']\n",
    "fig = gmaps.figure(center=(30.0, 31.0), zoom_level=1.5)\n",
    "heat_layer = gmaps.heatmap_layer(locations, weights=max_temp, dissipating=False,\n",
    "             max_intensity=300, point_radius=4)\n",
    "marker_layer = gmaps.marker_layer(locations, info_box_content=hotel_info)\n",
    "\n",
    "fig.add_layer(heat_layer)\n",
    "fig.add_layer(marker_layer)\n",
    "\n",
    "# Call the figure to plot the data.\n",
    "fig"
   ]
  },
  {
   "cell_type": "code",
   "execution_count": 23,
   "id": "c3c66ca0",
   "metadata": {},
   "outputs": [],
   "source": [
    "info_box_template = \"\"\"\n",
    "<dl>\n",
    "<dt>Hotel Name</dt><dd>{Hotel Name}</dd>\n",
    "<dt>City</dt><dd>{City}</dd>\n",
    "<dt>Country</dt><dd>{Country}</dd>\n",
    "<dt>Max Temp</dt><dd>{Max Temp} °F</dd>\n",
    "</dl>\n",
    "\"\"\"\n",
    "\n",
    "# Store the DataFrame Row.\n",
    "hotel_info = [info_box_template.format(**row) for index, row in hotel_df.iterrows()]"
   ]
  },
  {
   "cell_type": "code",
   "execution_count": null,
   "id": "a243c5f3",
   "metadata": {},
   "outputs": [],
   "source": []
  }
 ],
 "metadata": {
  "kernelspec": {
   "display_name": "PythonData",
   "language": "python",
   "name": "pythondata"
  },
  "language_info": {
   "codemirror_mode": {
    "name": "ipython",
    "version": 3
   },
   "file_extension": ".py",
   "mimetype": "text/x-python",
   "name": "python",
   "nbconvert_exporter": "python",
   "pygments_lexer": "ipython3",
   "version": "3.9.7"
  }
 },
 "nbformat": 4,
 "nbformat_minor": 5
}
